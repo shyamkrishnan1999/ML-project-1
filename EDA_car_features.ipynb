{
  "nbformat": 4,
  "nbformat_minor": 0,
  "metadata": {
    "colab": {
      "name": "EDA_car_features.ipynb",
      "provenance": [],
      "collapsed_sections": [],
      "authorship_tag": "ABX9TyMMcqyVMInoiFYBbzG+NVgR",
      "include_colab_link": true
    },
    "kernelspec": {
      "name": "python3",
      "display_name": "Python 3"
    }
  },
  "cells": [
    {
      "cell_type": "markdown",
      "metadata": {
        "id": "view-in-github",
        "colab_type": "text"
      },
      "source": [
        "<a href=\"https://colab.research.google.com/github/shyamkrishnan1999/ML-project-1/blob/master/EDA_car_features.ipynb\" target=\"_parent\"><img src=\"https://colab.research.google.com/assets/colab-badge.svg\" alt=\"Open In Colab\"/></a>"
      ]
    },
    {
      "cell_type": "code",
      "metadata": {
        "id": "1jGxqsbH0phe",
        "colab_type": "code",
        "colab": {}
      },
      "source": [
        "#Importing the required libraries\n",
        "\n",
        "import pandas as pd\n",
        "import numpy as np\n",
        "import matplotlib.pyplot as plt\n",
        "import seaborn as sns"
      ],
      "execution_count": null,
      "outputs": []
    },
    {
      "cell_type": "markdown",
      "metadata": {
        "id": "tb2mIgRm1fqA",
        "colab_type": "text"
      },
      "source": [
        "Here we have imported the necessary libraries.Now let us load the dataset."
      ]
    },
    {
      "cell_type": "code",
      "metadata": {
        "id": "2NouuqOs1sEI",
        "colab_type": "code",
        "colab": {}
      },
      "source": [
        "#Loading the dataset\n",
        "\n",
        "url=\"https://raw.githubusercontent.com/shyamkrishnan1999/ML-project-1/master/data.csv\"\n",
        "data=pd.read_csv(url)\n",
        "data.head()"
      ],
      "execution_count": null,
      "outputs": []
    },
    {
      "cell_type": "markdown",
      "metadata": {
        "id": "46hWyh9C3T6R",
        "colab_type": "text"
      },
      "source": [
        "Lets check a few measures on our data."
      ]
    },
    {
      "cell_type": "code",
      "metadata": {
        "id": "3hy8CU1s3bhB",
        "colab_type": "code",
        "colab": {}
      },
      "source": [
        "#Checking various measures in our data\n",
        "\n",
        "#A small info about our data \n",
        "data.info()"
      ],
      "execution_count": null,
      "outputs": []
    },
    {
      "cell_type": "code",
      "metadata": {
        "id": "mzxi9ZSI5wcT",
        "colab_type": "code",
        "colab": {}
      },
      "source": [
        "#Shape of your data\n",
        "data.shape"
      ],
      "execution_count": null,
      "outputs": []
    },
    {
      "cell_type": "code",
      "metadata": {
        "id": "p1Awz1UE3rIG",
        "colab_type": "code",
        "colab": {}
      },
      "source": [
        "#Checking for null values\n",
        "data.isnull().sum()"
      ],
      "execution_count": null,
      "outputs": []
    },
    {
      "cell_type": "code",
      "metadata": {
        "id": "Rs96SXLT4HC8",
        "colab_type": "code",
        "colab": {}
      },
      "source": [
        "#Small description about our data\n",
        "data.describe()"
      ],
      "execution_count": null,
      "outputs": []
    },
    {
      "cell_type": "markdown",
      "metadata": {
        "id": "FpDfpHH99MxC",
        "colab_type": "text"
      },
      "source": [
        "From observing the dataset we can see that 'no of doors', ' Engine fuel type' ,'market category' and 'vechicle style' aren't much relevant so we drop them."
      ]
    },
    {
      "cell_type": "code",
      "metadata": {
        "id": "BeyXz9-E9hMT",
        "colab_type": "code",
        "colab": {}
      },
      "source": [
        "#Dropping irrelvant columns\n",
        "\n",
        "data=data.drop(columns=['Number of Doors','Market Category','Engine Fuel Type'])\n",
        "data.head()"
      ],
      "execution_count": null,
      "outputs": []
    },
    {
      "cell_type": "code",
      "metadata": {
        "id": "4645Pwyl-NyX",
        "colab_type": "code",
        "colab": {}
      },
      "source": [
        "#Filling null values and removing duplicates\n",
        "\n",
        "data=data.dropna().drop_duplicates()\n",
        "data.duplicated(subset=None).unique()"
      ],
      "execution_count": null,
      "outputs": []
    },
    {
      "cell_type": "code",
      "metadata": {
        "id": "O8ZzuTETAE5g",
        "colab_type": "code",
        "colab": {}
      },
      "source": [
        "#Renaming columns\n",
        "\n",
        "data=data.rename(columns={'Engine HP':'HP','Engine Cylinders':'Cylinders',\n",
        "                     'Transmission Type':'Transmission','Driven_Wheels':'Drive Mode','highway MPG':'MPG-H','city mpg':'MPG-C','MSRP':'Price'})"
      ],
      "execution_count": 9,
      "outputs": []
    },
    {
      "cell_type": "code",
      "metadata": {
        "id": "oBh9Oep_BrKY",
        "colab_type": "code",
        "colab": {}
      },
      "source": [
        "#Rechecking our data\n",
        "data.isna().sum()"
      ],
      "execution_count": null,
      "outputs": []
    },
    {
      "cell_type": "markdown",
      "metadata": {
        "id": "ReUQoBIZWetu",
        "colab_type": "text"
      },
      "source": [
        "Let us plot outliers in our data and remove them."
      ]
    },
    {
      "cell_type": "code",
      "metadata": {
        "id": "HVHBDsa4VHBn",
        "colab_type": "code",
        "colab": {}
      },
      "source": [
        "#plotting outliers in data\n",
        "\n",
        "sns.boxplot(data['HP'])"
      ],
      "execution_count": null,
      "outputs": []
    },
    {
      "cell_type": "code",
      "metadata": {
        "id": "ivKFdR6rWG8d",
        "colab_type": "code",
        "colab": {}
      },
      "source": [
        "sns.boxplot(data['Cylinders'])"
      ],
      "execution_count": null,
      "outputs": []
    },
    {
      "cell_type": "code",
      "metadata": {
        "id": "z2CGgayzWHJB",
        "colab_type": "code",
        "colab": {}
      },
      "source": [
        "sns.boxplot(data['MPG-H'])"
      ],
      "execution_count": null,
      "outputs": []
    },
    {
      "cell_type": "code",
      "metadata": {
        "id": "PJq7gx0qWHRZ",
        "colab_type": "code",
        "colab": {}
      },
      "source": [
        "sns.boxplot(data['MPG-C'])"
      ],
      "execution_count": null,
      "outputs": []
    },
    {
      "cell_type": "code",
      "metadata": {
        "id": "Kr8axMhVWHYK",
        "colab_type": "code",
        "colab": {}
      },
      "source": [
        "sns.boxplot(data['Popularity'])"
      ],
      "execution_count": null,
      "outputs": []
    },
    {
      "cell_type": "code",
      "metadata": {
        "id": "2cEITR-0WHfv",
        "colab_type": "code",
        "colab": {}
      },
      "source": [
        "sns.boxplot(data['Price'])"
      ],
      "execution_count": null,
      "outputs": []
    },
    {
      "cell_type": "code",
      "metadata": {
        "id": "C1nuLRwLWpIH",
        "colab_type": "code",
        "colab": {}
      },
      "source": [
        "#Removing outliers\n",
        "\n",
        "Q1=data.quantile(0.25)\n",
        "Q3=data.quantile(0.75)\n",
        "IQR=Q3-Q1\n",
        "data=data[~((data<(Q1-1.5*IQR))|(data>(Q3+1.5*IQR))).any(axis=1)]\n",
        "sns.boxplot(data['HP'])  #Checking whether outliers have been removed or not"
      ],
      "execution_count": null,
      "outputs": []
    },
    {
      "cell_type": "markdown",
      "metadata": {
        "id": "JjKojT1iZdVU",
        "colab_type": "text"
      },
      "source": [
        "Lets look which car brands are most represented in the dataset and their average prices."
      ]
    },
    {
      "cell_type": "code",
      "metadata": {
        "id": "4Ji4XeLxZEL3",
        "colab_type": "code",
        "colab": {}
      },
      "source": [
        "top_brands=data['Make'].value_counts().head(10)\n",
        "top_brands"
      ],
      "execution_count": null,
      "outputs": []
    },
    {
      "cell_type": "code",
      "metadata": {
        "id": "BIi78UyiTejU",
        "colab_type": "code",
        "colab": {}
      },
      "source": [
        "top_brands_data=pd.DataFrame()\n",
        "\n",
        "for i in top_brands.index:\n",
        "  df=data[data['Make']==i]\n",
        "  top_brands_data=top_brands_data.append(df)\n",
        "\n",
        "top_brands_data"
      ],
      "execution_count": null,
      "outputs": []
    },
    {
      "cell_type": "code",
      "metadata": {
        "id": "wMhdntlqXOsd",
        "colab_type": "code",
        "colab": {}
      },
      "source": [
        "#Finding average price of top 10 car brands\n",
        "\n",
        "top_brands_mean_price=pd.DataFrame(columns=['Brands','Average price'])\n",
        "price_data=top_brands_data[['Make','Price']]\n",
        "\n",
        "for i in top_brands.index:\n",
        "  mean_price=price_data[price_data['Make']==i].mean()\n",
        "  top_brands_mean_price=top_brands_mean_price.append([{'Brands':i,'Average price':mean_price[0]}])\n",
        "\n",
        "top_brands_mean_price.reset_index().drop(columns=['index'])\n"
      ],
      "execution_count": null,
      "outputs": []
    },
    {
      "cell_type": "markdown",
      "metadata": {
        "id": "B6auNx4HdFf7",
        "colab_type": "text"
      },
      "source": [
        "We plot the top car brands and their average prices on a bar graph."
      ]
    },
    {
      "cell_type": "code",
      "metadata": {
        "id": "hqvq1Ba2dNTJ",
        "colab_type": "code",
        "colab": {}
      },
      "source": [
        "plt.figure(figsize=(10,8))\n",
        "plt.barh(top_brands_mean_price['Brands'],top_brands_mean_price['Average price'],)"
      ],
      "execution_count": null,
      "outputs": []
    },
    {
      "cell_type": "markdown",
      "metadata": {
        "id": "xUhJDtHbePRC",
        "colab_type": "text"
      },
      "source": [
        "From the above graph we can see that the average price of a suzuki car is the least whereas the average price of an infiniti car is the highest."
      ]
    },
    {
      "cell_type": "markdown",
      "metadata": {
        "id": "Y0qgGd-ygLMy",
        "colab_type": "text"
      },
      "source": [
        "Let us perform our Explanatory Data Analysis on the given dataset.  "
      ]
    },
    {
      "cell_type": "markdown",
      "metadata": {
        "id": "DnmWkO-ggNcs",
        "colab_type": "text"
      },
      "source": [
        "First let us find the correlation matrix."
      ]
    },
    {
      "cell_type": "code",
      "metadata": {
        "id": "AvZKMh2_gY8-",
        "colab_type": "code",
        "colab": {}
      },
      "source": [
        "#Finding correlation matrix and plotting it in a heatmap\n",
        "\n",
        "corr=data.corr()\n",
        "plt.figure(figsize=(10,8))\n",
        "corr_matrix=sns.heatmap(corr,annot=True)\n",
        "corr_matrix"
      ],
      "execution_count": null,
      "outputs": []
    },
    {
      "cell_type": "markdown",
      "metadata": {
        "id": "t-54SfXIh8UG",
        "colab_type": "text"
      },
      "source": [
        "From the above figure we can see that year,HP and Cylinders have a high correlation with price. "
      ]
    },
    {
      "cell_type": "markdown",
      "metadata": {
        "id": "vezhu1_Zf9xA",
        "colab_type": "text"
      },
      "source": [
        "It would be better if we convert our prices to a price range for example 20-39k etc."
      ]
    },
    {
      "cell_type": "code",
      "metadata": {
        "id": "OyVRqX5lgUAj",
        "colab_type": "code",
        "colab": {}
      },
      "source": [
        "def price_range(x):\n",
        "  if x<10000:\n",
        "    return \"Under 10k\"\n",
        "  elif x>=10000 and x<30000:\n",
        "    return \"10-29K\"\n",
        "  elif x>=30000 and x<50000:\n",
        "    return \"30-49k\"\n",
        "  elif x>=50000 and x<70000:\n",
        "    return \"50-69k\"\n",
        "  else:\n",
        "    return \"Over 70k\"\n",
        "\n",
        "data['Price Range']=list(map(price_range,data['Price'].sort_values()))\n",
        "data\n"
      ],
      "execution_count": null,
      "outputs": []
    },
    {
      "cell_type": "markdown",
      "metadata": {
        "id": "sMOEKUWbiP4E",
        "colab_type": "text"
      },
      "source": [
        "Let us plot each of our feature variable against price and price Range."
      ]
    },
    {
      "cell_type": "code",
      "metadata": {
        "id": "zXld45lcidEq",
        "colab_type": "code",
        "colab": {}
      },
      "source": [
        "#Plotting price Range against year\n",
        "\n",
        "plt.figure(figsize=(8,8))\n",
        "sns.swarmplot(data['Year'],data['Price Range']) #swarmplot takes about 2 minutes to load"
      ],
      "execution_count": null,
      "outputs": []
    },
    {
      "cell_type": "markdown",
      "metadata": {
        "id": "x4NddZ9yszRg",
        "colab_type": "text"
      },
      "source": [
        "From the above swarm plot we can see that during the period 2000-2005 less cars were manufactured which costs below 10k dollars.On the other hand there had been huge increase in the cars models costing from 50-69k dollars from year 2000 and over 70k dollars from year 2015."
      ]
    },
    {
      "cell_type": "code",
      "metadata": {
        "id": "4g2ai1QUqfq5",
        "colab_type": "code",
        "colab": {}
      },
      "source": [
        "#plotting price against year\n",
        "\n",
        "plt.figure(figsize=(8,8))\n",
        "plt.scatter(data['Year'],data['Price'])"
      ],
      "execution_count": null,
      "outputs": []
    },
    {
      "cell_type": "markdown",
      "metadata": {
        "id": "VycVYB2gjXUe",
        "colab_type": "text"
      },
      "source": [
        "From the above scatter plot we can see after year 2000 the prices of cars have increased substantially."
      ]
    },
    {
      "cell_type": "code",
      "metadata": {
        "id": "PAWhtirktuDu",
        "colab_type": "code",
        "colab": {}
      },
      "source": [
        "#plotting HP against Price range\n",
        "\n",
        "plt.figure(figsize=(8,8))\n",
        "sns.stripplot(data['HP'],data['Price Range'])"
      ],
      "execution_count": null,
      "outputs": []
    },
    {
      "cell_type": "code",
      "metadata": {
        "id": "f0B_cB80juOv",
        "colab_type": "code",
        "colab": {}
      },
      "source": [
        "#plotting HP against price\n",
        "\n",
        "plt.figure(figsize=(8,8))\n",
        "plt.scatter(data['HP'],data['Price'])"
      ],
      "execution_count": null,
      "outputs": []
    },
    {
      "cell_type": "markdown",
      "metadata": {
        "id": "S3Mp3w3qkiog",
        "colab_type": "text"
      },
      "source": [
        "From the above plot we understood that as the horsepower(HP) of engine increases the price also increases."
      ]
    },
    {
      "cell_type": "code",
      "metadata": {
        "id": "550odYHiuvhO",
        "colab_type": "code",
        "colab": {}
      },
      "source": [
        "#plotting no of cylinders against price range\n",
        "\n",
        "sns.scatterplot(data['Cylinders'],data['Price Range'])"
      ],
      "execution_count": null,
      "outputs": []
    },
    {
      "cell_type": "code",
      "metadata": {
        "id": "xKK7uLn3k1BA",
        "colab_type": "code",
        "colab": {}
      },
      "source": [
        "#Plotting number of cylinders against price\n",
        "plt.figure(figsize=(8,8))\n",
        "plt.scatter(data['Cylinders'],data['Price'])"
      ],
      "execution_count": null,
      "outputs": []
    },
    {
      "cell_type": "code",
      "metadata": {
        "id": "6YZfdLyMlq25",
        "colab_type": "code",
        "colab": {}
      },
      "source": [
        "#plotting highway milage against price\n",
        "plt.figure(figsize=(8,8))\n",
        "plt.scatter(data['MPG-H'],data['Price'])"
      ],
      "execution_count": null,
      "outputs": []
    },
    {
      "cell_type": "code",
      "metadata": {
        "id": "CMs8Ceej01kl",
        "colab_type": "code",
        "colab": {}
      },
      "source": [
        "#plotting highway milage against price range\n",
        "\n",
        "plt.figure(figsize=(8,8))\n",
        "sns.violinplot(data['MPG-H'],data['Price Range'])"
      ],
      "execution_count": null,
      "outputs": []
    },
    {
      "cell_type": "markdown",
      "metadata": {
        "id": "zOj_YSkxp2JT",
        "colab_type": "text"
      },
      "source": [
        "Here in this violin plot we observe a fact:median highway milage decreses for increse in price."
      ]
    },
    {
      "cell_type": "code",
      "metadata": {
        "id": "Edlr53a7mZax",
        "colab_type": "code",
        "colab": {}
      },
      "source": [
        "#plotting city milage against price\n",
        "plt.figure(figsize=(8,8))\n",
        "plt.scatter(data['MPG-C'],data['Price'])"
      ],
      "execution_count": null,
      "outputs": []
    },
    {
      "cell_type": "code",
      "metadata": {
        "id": "TVQCHgGD2IxC",
        "colab_type": "code",
        "colab": {}
      },
      "source": [
        "#plotting city milage against price range\n",
        "plt.figure(figsize=(8,8))\n",
        "sns.violinplot(data['MPG-C'],data['Price Range'])"
      ],
      "execution_count": null,
      "outputs": []
    },
    {
      "cell_type": "code",
      "metadata": {
        "id": "KnxSe4gemugs",
        "colab_type": "code",
        "colab": {}
      },
      "source": [
        "#plotting popularity against prices\n",
        "\n",
        "plt.figure(figsize=(8,8))\n",
        "plt.scatter(data['Popularity'],data['Price'])"
      ],
      "execution_count": null,
      "outputs": []
    },
    {
      "cell_type": "code",
      "metadata": {
        "id": "ea7O352x2p_c",
        "colab_type": "code",
        "colab": {}
      },
      "source": [
        "#plotting popularity against price range\n",
        "\n",
        "plt.figure(figsize=(8,8))\n",
        "sns.violinplot(data['Popularity'],data['Price Range'])"
      ],
      "execution_count": null,
      "outputs": []
    },
    {
      "cell_type": "markdown",
      "metadata": {
        "id": "l2-DMpRk3QCz",
        "colab_type": "text"
      },
      "source": [
        "From the above plot we can see that as price increses the median popularity decreases."
      ]
    },
    {
      "cell_type": "code",
      "metadata": {
        "id": "jmx7JhZDowiu",
        "colab_type": "code",
        "colab": {}
      },
      "source": [
        "#plotting transmission mode against price\n",
        "plt.figure(figsize=(8,8))\n",
        "plt.scatter(data['Transmission'],data['Price'])"
      ],
      "execution_count": null,
      "outputs": []
    },
    {
      "cell_type": "code",
      "metadata": {
        "id": "P8Cs3Loz3mSi",
        "colab_type": "code",
        "colab": {}
      },
      "source": [
        "#plotting transmission mode against price range\n",
        "plt.figure(figsize=(8,8))\n",
        "sns.violinplot(data['Transmission'],data['Price'])"
      ],
      "execution_count": null,
      "outputs": []
    },
    {
      "cell_type": "markdown",
      "metadata": {
        "id": "Cso5sJKl4R-6",
        "colab_type": "text"
      },
      "source": [
        "From the above violin plot we can see that median price of automatic tramsmission model is slightly higher than that of manual transmission model."
      ]
    },
    {
      "cell_type": "code",
      "metadata": {
        "id": "9GFGUfrepwRs",
        "colab_type": "code",
        "colab": {}
      },
      "source": [
        "#plotting vechicle size against price\n",
        "plt.figure(figsize=(8,8))\n",
        "plt.scatter(data['Vehicle Size'],data['Price'])"
      ],
      "execution_count": null,
      "outputs": []
    },
    {
      "cell_type": "code",
      "metadata": {
        "id": "xwUzMDveqE7i",
        "colab_type": "code",
        "colab": {}
      },
      "source": [
        "#plotting drive mode against price\n",
        "plt.figure(figsize=(8,8))\n",
        "plt.scatter(data['Drive Mode'],data['Price'])"
      ],
      "execution_count": null,
      "outputs": []
    },
    {
      "cell_type": "code",
      "metadata": {
        "id": "k2dLQw-YcO4H",
        "colab_type": "code",
        "colab": {}
      },
      "source": [
        "#plotting brands against price\n",
        "plt.figure(figsize=(40,40))\n",
        "sns.swarmplot(data['Make'],data['Price'])"
      ],
      "execution_count": null,
      "outputs": []
    },
    {
      "cell_type": "code",
      "metadata": {
        "id": "fAs9SjlhfK3u",
        "colab_type": "code",
        "colab": {}
      },
      "source": [
        "#plotting vehicle style against price\n",
        "plt.figure(figsize=(30,30))\n",
        "sns.swarmplot(data['Vehicle Style'],data['Price'])"
      ],
      "execution_count": null,
      "outputs": []
    },
    {
      "cell_type": "markdown",
      "metadata": {
        "id": "O0SmKplZ6J0K",
        "colab_type": "text"
      },
      "source": [
        "From all the above plots we come to the fact the major determinants for the price of a car is-Year,HP,highway milage and popularity."
      ]
    },
    {
      "cell_type": "markdown",
      "metadata": {
        "id": "d7CGq2s8tcyl",
        "colab_type": "text"
      },
      "source": [
        "Lets do some data preprocessing such as scaling and splitting into train set and test set."
      ]
    },
    {
      "cell_type": "code",
      "metadata": {
        "id": "rWL_1FiZqmuj",
        "colab_type": "code",
        "colab": {}
      },
      "source": [
        "#Taking values\n",
        "x=data[['Year','HP','MPG-H','Popularity']].values\n",
        "y=data['Price'].values\n",
        "x,y"
      ],
      "execution_count": null,
      "outputs": []
    },
    {
      "cell_type": "code",
      "metadata": {
        "id": "I2eoBQVcseL2",
        "colab_type": "code",
        "colab": {}
      },
      "source": [
        "#scaling values\n",
        "from sklearn.preprocessing import StandardScaler\n",
        "scaler=StandardScaler()\n",
        "x=scaler.fit_transform(x)\n",
        "x"
      ],
      "execution_count": null,
      "outputs": []
    },
    {
      "cell_type": "code",
      "metadata": {
        "id": "RBZYylvTtqZW",
        "colab_type": "code",
        "colab": {}
      },
      "source": [
        "#Splitting into train set and test set\n",
        "from sklearn.model_selection import train_test_split\n",
        "x_train,x_test,y_train,y_test=train_test_split(x,y,test_size=0.2,random_state=0)"
      ],
      "execution_count": 55,
      "outputs": []
    },
    {
      "cell_type": "markdown",
      "metadata": {
        "id": "ctgTPSkZqWqj",
        "colab_type": "text"
      },
      "source": [
        "Let us apply various machine learning models and see results."
      ]
    },
    {
      "cell_type": "markdown",
      "metadata": {
        "id": "HLBxpr8vs4_5",
        "colab_type": "text"
      },
      "source": [
        "First let us apply multivariable linear regression model and check the results."
      ]
    },
    {
      "cell_type": "code",
      "metadata": {
        "id": "rCsFuBeHtBEt",
        "colab_type": "code",
        "colab": {}
      },
      "source": [
        "from sklearn.linear_model import LinearRegression\n",
        "model=LinearRegression()\n",
        "model.fit(x_train,y_train)\n",
        "y_pred=model.predict(x_test)"
      ],
      "execution_count": 56,
      "outputs": []
    },
    {
      "cell_type": "markdown",
      "metadata": {
        "id": "wJHuwpUSua2n",
        "colab_type": "text"
      },
      "source": [
        "Checking various parameters for this linear regression model like Mean Absolute Error(MAE),Mean Squared Error(MSE),Root Mean Squared Error(RMSE) and R2 score."
      ]
    },
    {
      "cell_type": "code",
      "metadata": {
        "id": "ZYgMnWVwu4fs",
        "colab_type": "code",
        "colab": {}
      },
      "source": [
        "#checking various parameters\n",
        "from sklearn.metrics import r2_score,mean_absolute_error,mean_squared_error\n",
        "mean_price=data['Price'].mean() #mean price\n",
        "mae=mean_absolute_error(y_test,y_pred) #mean absolute error\n",
        "mse=mean_squared_error(y_test,y_pred)  #mean squared error\n",
        "rmse=np.sqrt(mse)  #root mean square error\n",
        "r2=r2_score(y_test,y_pred)  #r2 score\n",
        "mae,mse,rmse,mean_price,r2\n"
      ],
      "execution_count": null,
      "outputs": []
    },
    {
      "cell_type": "markdown",
      "metadata": {
        "id": "EamW0RSTxutG",
        "colab_type": "text"
      },
      "source": [
        "Here we see that linear regression model gives us a r2 score of about 0.68 and the root mean square error is more than 10 percent of the mean.Hence linear Regression is not a suitable algorithm in this case."
      ]
    },
    {
      "cell_type": "markdown",
      "metadata": {
        "id": "wb1D-aZv8m6D",
        "colab_type": "text"
      },
      "source": [
        "Lets try out knn algorithm."
      ]
    },
    {
      "cell_type": "code",
      "metadata": {
        "colab_type": "code",
        "id": "sxYvq2QW8gxX",
        "colab": {}
      },
      "source": [
        "#KNearestBeighbor\n",
        "from sklearn.neighbors import KNeighborsRegressor\n",
        "model=KNeighborsRegressor(n_neighbors=3)\n",
        "model.fit(x_train,y_train)\n",
        "y_pred=model.predict(x_test)"
      ],
      "execution_count": 117,
      "outputs": []
    },
    {
      "cell_type": "code",
      "metadata": {
        "id": "zfooMbQO7mSn",
        "colab_type": "code",
        "colab": {}
      },
      "source": [
        "#checking various parameters\n",
        "from sklearn.metrics import r2_score,mean_absolute_error,mean_squared_error\n",
        "mae=mean_absolute_error(y_test,y_pred) #mean absolute error\n",
        "mse=mean_squared_error(y_test,y_pred)  #mean squared error\n",
        "rmse=np.sqrt(mse)  #root mean square error\n",
        "r2=r2_score(y_test,y_pred)  #r2 score\n",
        "mae,mse,rmse,mean_price,r2"
      ],
      "execution_count": null,
      "outputs": []
    },
    {
      "cell_type": "markdown",
      "metadata": {
        "id": "cEsbNk8i81Cd",
        "colab_type": "text"
      },
      "source": [
        "Knn algorithm gives us an r2 score of 0.9 which is fairly good.However the root mean squared error is still more than 10 percent of mean."
      ]
    },
    {
      "cell_type": "markdown",
      "metadata": {
        "id": "9IquL5yByfJ2",
        "colab_type": "text"
      },
      "source": [
        "Next let us try out a decision tree and see."
      ]
    },
    {
      "cell_type": "code",
      "metadata": {
        "id": "uMX505w5yqwm",
        "colab_type": "code",
        "colab": {}
      },
      "source": [
        "#Decision tree\n",
        "from sklearn.tree import DecisionTreeRegressor\n",
        "model=DecisionTreeRegressor()\n",
        "model.fit(x_train,y_train)\n",
        "y_pred=model.predict(x_test)"
      ],
      "execution_count": 61,
      "outputs": []
    },
    {
      "cell_type": "code",
      "metadata": {
        "id": "Wb1eNkEezDEI",
        "colab_type": "code",
        "colab": {}
      },
      "source": [
        "#checking various parameters\n",
        "from sklearn.metrics import r2_score,mean_absolute_error,mean_squared_error\n",
        "mae=mean_absolute_error(y_test,y_pred) #mean absolute error\n",
        "mse=mean_squared_error(y_test,y_pred)  #mean squared error\n",
        "rmse=np.sqrt(mse)  #root mean square error\n",
        "r2=r2_score(y_test,y_pred)  #r2 score\n",
        "mae,mse,rmse,mean_price,r2"
      ],
      "execution_count": null,
      "outputs": []
    },
    {
      "cell_type": "markdown",
      "metadata": {
        "id": "HbxFYusqzVw1",
        "colab_type": "text"
      },
      "source": [
        "We see that decision tree gives us an r2 score about 0.92.However the root mean square error is still a little above 10 percent of the mean.so we could try Random Forest algorithm."
      ]
    },
    {
      "cell_type": "code",
      "metadata": {
        "id": "d0znihX9z27E",
        "colab_type": "code",
        "colab": {}
      },
      "source": [
        "#Random Forest\n",
        "from sklearn.ensemble import RandomForestRegressor\n",
        "model=RandomForestRegressor(n_estimators=100)\n",
        "model.fit(x_train,y_train)\n",
        "y_pred=model.predict(x_test)"
      ],
      "execution_count": 91,
      "outputs": []
    },
    {
      "cell_type": "code",
      "metadata": {
        "id": "2TI1eqov0fp0",
        "colab_type": "code",
        "colab": {}
      },
      "source": [
        "#checking various parameters\n",
        "from sklearn.metrics import r2_score,mean_absolute_error,mean_squared_error\n",
        "mae=mean_absolute_error(y_test,y_pred) #mean absolute error\n",
        "mse=mean_squared_error(y_test,y_pred)  #mean squared error\n",
        "rmse=np.sqrt(mse)  #root mean square error\n",
        "r2=r2_score(y_test,y_pred)  #r2 score\n",
        "mae,mse,rmse,mean_price,r2"
      ],
      "execution_count": null,
      "outputs": []
    },
    {
      "cell_type": "markdown",
      "metadata": {
        "id": "DdF6J1421Vt9",
        "colab_type": "text"
      },
      "source": [
        "We saw that random forest algorithm with 100 trees gave us an r2 score of about 0.93.However the root mean square error is above 10 percent of the mean."
      ]
    },
    {
      "cell_type": "markdown",
      "metadata": {
        "id": "7cMG187F-BTm",
        "colab_type": "text"
      },
      "source": [
        "Out of the four algorithms Random Forest gives the highest r2 score of 0.93 and least mean absolute,mean squared and root mean square errors.Hence Random Forest is the most suitable algorithm in this case."
      ]
    }
  ]
}