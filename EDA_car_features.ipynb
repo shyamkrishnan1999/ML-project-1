{
  "nbformat": 4,
  "nbformat_minor": 0,
  "metadata": {
    "colab": {
      "name": "EDA_car_features.ipynb",
      "provenance": [],
      "authorship_tag": "ABX9TyMyr0NWJKl2CcNgnE/zl1sW",
      "include_colab_link": true
    },
    "kernelspec": {
      "name": "python3",
      "display_name": "Python 3"
    }
  },
  "cells": [
    {
      "cell_type": "markdown",
      "metadata": {
        "id": "view-in-github",
        "colab_type": "text"
      },
      "source": [
        "<a href=\"https://colab.research.google.com/github/shyamkrishnan1999/ML-project-1/blob/master/EDA_car_features.ipynb\" target=\"_parent\"><img src=\"https://colab.research.google.com/assets/colab-badge.svg\" alt=\"Open In Colab\"/></a>"
      ]
    },
    {
      "cell_type": "code",
      "metadata": {
        "id": "1jGxqsbH0phe",
        "colab_type": "code",
        "colab": {}
      },
      "source": [
        "#Importing the required libraries\n",
        "\n",
        "import pandas as pd\n",
        "import numpy as np\n",
        "import matplotlib.pyplot as plt\n",
        "import seaborn as sns"
      ],
      "execution_count": null,
      "outputs": []
    },
    {
      "cell_type": "markdown",
      "metadata": {
        "id": "tb2mIgRm1fqA",
        "colab_type": "text"
      },
      "source": [
        "Here we have imported the necessary libraries.Now let us load the dataset."
      ]
    },
    {
      "cell_type": "code",
      "metadata": {
        "id": "2NouuqOs1sEI",
        "colab_type": "code",
        "colab": {}
      },
      "source": [
        "#Loading the dataset\n",
        "\n",
        "url=\"https://raw.githubusercontent.com/shyamkrishnan1999/ML-project-1/master/data.csv\"\n",
        "data=pd.read_csv(url)\n",
        "data.head()"
      ],
      "execution_count": null,
      "outputs": []
    },
    {
      "cell_type": "markdown",
      "metadata": {
        "id": "46hWyh9C3T6R",
        "colab_type": "text"
      },
      "source": [
        "Lets check a few measures on our data."
      ]
    },
    {
      "cell_type": "code",
      "metadata": {
        "id": "3hy8CU1s3bhB",
        "colab_type": "code",
        "colab": {}
      },
      "source": [
        "#Checking various measures in our data\n",
        "\n",
        "#A small info about our data \n",
        "data.info()"
      ],
      "execution_count": null,
      "outputs": []
    },
    {
      "cell_type": "code",
      "metadata": {
        "id": "mzxi9ZSI5wcT",
        "colab_type": "code",
        "colab": {}
      },
      "source": [
        "#Shape of ur data\n",
        "data.shape"
      ],
      "execution_count": null,
      "outputs": []
    },
    {
      "cell_type": "code",
      "metadata": {
        "id": "p1Awz1UE3rIG",
        "colab_type": "code",
        "colab": {}
      },
      "source": [
        "#Checking for null values\n",
        "data.isnull().sum()"
      ],
      "execution_count": null,
      "outputs": []
    },
    {
      "cell_type": "code",
      "metadata": {
        "id": "Rs96SXLT4HC8",
        "colab_type": "code",
        "colab": {}
      },
      "source": [
        "#Small description about our data\n",
        "data.describe()"
      ],
      "execution_count": null,
      "outputs": []
    },
    {
      "cell_type": "markdown",
      "metadata": {
        "id": "FpDfpHH99MxC",
        "colab_type": "text"
      },
      "source": [
        "From observing the dataset we can see that 'no of doors', ' Engine fuel type' ,'market category' and 'vechicle style' aren't much relevant so we drop them."
      ]
    },
    {
      "cell_type": "code",
      "metadata": {
        "id": "BeyXz9-E9hMT",
        "colab_type": "code",
        "colab": {}
      },
      "source": [
        "#Dropping irrelvant columns\n",
        "\n",
        "data=data.drop(columns=['Number of Doors','Market Category','Vehicle Style','Engine Fuel Type'])\n",
        "data.head()"
      ],
      "execution_count": null,
      "outputs": []
    },
    {
      "cell_type": "code",
      "metadata": {
        "id": "4645Pwyl-NyX",
        "colab_type": "code",
        "colab": {}
      },
      "source": [
        "#Filling null values and removing duplicates\n",
        "\n",
        "data=data.fillna(method='ffill').drop_duplicates()\n",
        "data.duplicated(subset=None).unique()"
      ],
      "execution_count": null,
      "outputs": []
    },
    {
      "cell_type": "code",
      "metadata": {
        "id": "O8ZzuTETAE5g",
        "colab_type": "code",
        "colab": {}
      },
      "source": [
        "#Renaming columns\n",
        "\n",
        "data=data.rename(columns={'Engine HP':'HP','Engine Cylinders':'Cylinders',\n",
        "                     'Transmission Type':'Transmission','Driven_Wheels':'Drive Mode','highway MPG':'MPG-H','city mpg':'MPG-C','MSRP':'Price'})"
      ],
      "execution_count": 13,
      "outputs": []
    },
    {
      "cell_type": "code",
      "metadata": {
        "id": "oBh9Oep_BrKY",
        "colab_type": "code",
        "colab": {}
      },
      "source": [
        "#Rechecking our data\n",
        "data.isna().sum()"
      ],
      "execution_count": null,
      "outputs": []
    }
  ]
}